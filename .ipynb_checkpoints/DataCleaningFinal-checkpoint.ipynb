{
 "cells": [
  {
   "cell_type": "code",
   "execution_count": null,
   "id": "bf391b6e",
   "metadata": {},
   "outputs": [],
   "source": [
    "import pandas as pd"
   ]
  },
  {
   "cell_type": "code",
   "execution_count": null,
   "id": "4ce6f866",
   "metadata": {},
   "outputs": [],
   "source": [
    "pd.set_option('display.max.rows', 150)"
   ]
  },
  {
   "cell_type": "code",
   "execution_count": null,
   "id": "637b08a0",
   "metadata": {},
   "outputs": [],
   "source": [
    "colleges1_2 = pd.read_csv(r\"C:\\Users\\User\\Documents\\School\\FallGrad2023\\DW\\DataWarehouse_ProjectReport\\data\\DatawarehouseProject - colleges1_2.csv\")\n",
    "colleges1_2"
   ]
  },
  {
   "cell_type": "code",
   "execution_count": null,
   "id": "4e7ea7b6",
   "metadata": {},
   "outputs": [],
   "source": [
    "df1_2 = pd.read_csv(r\"C:\\Users\\User\\Documents\\School\\FallGrad2023\\DW\\DataWarehouse_ProjectReport\\data\\DatawarehouseProject - ds1_2.csv\")\n",
    "df1_2"
   ]
  },
  {
   "cell_type": "code",
   "execution_count": null,
   "id": "8eec4a6a",
   "metadata": {},
   "outputs": [],
   "source": [
    "colleges3 = pd.read_csv(r\"C:\\Users\\User\\Documents\\School\\FallGrad2023\\DW\\DataWarehouse_ProjectReport\\data\\DatawarehouseProject - colleges3.csv\")\n",
    "colleges3"
   ]
  },
  {
   "cell_type": "code",
   "execution_count": null,
   "id": "b54f7801",
   "metadata": {},
   "outputs": [],
   "source": [
    "df3 = pd.read_csv(r\"C:\\Users\\User\\Documents\\School\\FallGrad2023\\DW\\DataWarehouse_ProjectReport\\data\\DatawarehouseProject - ds3.csv\")\n",
    "df3"
   ]
  }
 ],
 "metadata": {
  "kernelspec": {
   "display_name": "Python 3 (ipykernel)",
   "language": "python",
   "name": "python3"
  }
 },
 "nbformat": 4,
 "nbformat_minor": 5
}
