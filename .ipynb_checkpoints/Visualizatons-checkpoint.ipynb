{
 "cells": [
  {
   "cell_type": "markdown",
   "id": "1aba869c-f31e-4e3f-9b5a-d68946cc4d33",
   "metadata": {},
   "source": [
    "# Visulizations of Populated Data"
   ]
  },
  {
   "cell_type": "code",
   "execution_count": null,
   "id": "4039d067",
   "metadata": {},
   "outputs": [
    {
     "ename": "",
     "evalue": "",
     "output_type": "error",
     "traceback": [
      "\u001b[1;31mThe kernel failed to start as a dll could not be loaded.\n",
      "\u001b[1;31mClick <a href='https://aka.ms/kernelFailuresDllLoad'>here</a> for more info."
     ]
    }
   ],
   "source": [
    "import pandas as pd\n",
    "# import matplotlib.pyplot as plt\n",
    "# from mpl_toolkits.mplot3d import Axes3D"
   ]
  },
  {
   "cell_type": "markdown",
   "id": "c9b70097",
   "metadata": {},
   "source": [
    "Read in data"
   ]
  },
  {
   "cell_type": "code",
   "execution_count": null,
   "id": "d6f146b1",
   "metadata": {},
   "outputs": [],
   "source": [
    "Visuals = pd.read_csv(r'C:\\Users\\User\\Documents\\School\\FallGrad2023\\DW\\DataWarehouse_ProjectReport\\data\\fact_data.csv')"
   ]
  },
  {
   "cell_type": "code",
   "execution_count": null,
   "id": "582082f1",
   "metadata": {},
   "outputs": [],
   "source": [
    "# Sample code to merge fact data with dimension tables\n",
    "merged_data = fact_data.merge(dim_product, on='product_id', how='left')\n",
    "merged_data = merged_data.merge(dim_time, on='time_id', how='left')\n",
    "merged_data = merged_data.merge(dim_location, on='location_id', how='left')\n"
   ]
  }
 ],
 "metadata": {
  "kernelspec": {
   "display_name": "datawarehouse",
   "language": "python",
   "name": "python3"
  },
  "language_info": {
   "codemirror_mode": {
    "name": "ipython",
    "version": 3
   },
   "file_extension": ".py",
   "mimetype": "text/x-python",
   "name": "python",
   "nbconvert_exporter": "python",
   "pygments_lexer": "ipython3",
   "version": "3.9.12"
  }
 },
 "nbformat": 4,
 "nbformat_minor": 5
}
