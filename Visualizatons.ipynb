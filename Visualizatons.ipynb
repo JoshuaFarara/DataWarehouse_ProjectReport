{
 "cells": [
  {
   "cell_type": "markdown",
   "id": "1aba869c-f31e-4e3f-9b5a-d68946cc4d33",
   "metadata": {},
   "source": [
    "# Visulizations of Populated Data"
   ]
  },
  {
   "cell_type": "code",
   "execution_count": null,
   "id": "7ee4b2de-217c-4548-88f0-5d58b6d6324c",
   "metadata": {},
   "outputs": [],
   "source": [
    "!pip install "
   ]
  },
  {
   "cell_type": "code",
   "execution_count": 1,
   "id": "4039d067",
   "metadata": {},
   "outputs": [
    {
     "ename": "ModuleNotFoundError",
     "evalue": "No module named 'matplotlib'",
     "output_type": "error",
     "traceback": [
      "\u001b[1;31m---------------------------------------------------------------------------\u001b[0m",
      "\u001b[1;31mModuleNotFoundError\u001b[0m                       Traceback (most recent call last)",
      "Cell \u001b[1;32mIn[1], line 2\u001b[0m\n\u001b[0;32m      1\u001b[0m \u001b[38;5;28;01mimport\u001b[39;00m \u001b[38;5;21;01mpandas\u001b[39;00m \u001b[38;5;28;01mas\u001b[39;00m \u001b[38;5;21;01mpd\u001b[39;00m\n\u001b[1;32m----> 2\u001b[0m \u001b[38;5;28;01mimport\u001b[39;00m \u001b[38;5;21;01mmatplotlib\u001b[39;00m\u001b[38;5;21;01m.\u001b[39;00m\u001b[38;5;21;01mpyplot\u001b[39;00m \u001b[38;5;28;01mas\u001b[39;00m \u001b[38;5;21;01mplt\u001b[39;00m\n\u001b[0;32m      3\u001b[0m \u001b[38;5;28;01mfrom\u001b[39;00m \u001b[38;5;21;01mmpl_toolkits\u001b[39;00m\u001b[38;5;21;01m.\u001b[39;00m\u001b[38;5;21;01mmplot3d\u001b[39;00m \u001b[38;5;28;01mimport\u001b[39;00m Axes3D\n",
      "\u001b[1;31mModuleNotFoundError\u001b[0m: No module named 'matplotlib'"
     ]
    }
   ],
   "source": [
    "import pandas as pd\n",
    "# import matplotlib.pyplot as plt\n",
    "# from mpl_toolkits.mplot3d import Axes3D"
   ]
  },
  {
   "cell_type": "markdown",
   "id": "c9b70097",
   "metadata": {},
   "source": [
    "Read in data"
   ]
  },
  {
   "cell_type": "code",
   "execution_count": null,
   "id": "d6f146b1",
   "metadata": {},
   "outputs": [],
   "source": [
    "Visuals = pd.read_csv(r'C:\\Users\\User\\Documents\\School\\FallGrad2023\\DW\\DataWarehouse_ProjectReport\\data\\fact_data.csv')"
   ]
  },
  {
   "cell_type": "code",
   "execution_count": null,
   "id": "582082f1",
   "metadata": {},
   "outputs": [],
   "source": [
    "# Sample code to merge fact data with dimension tables\n",
    "merged_data = fact_data.merge(dim_product, on='product_id', how='left')\n",
    "merged_data = merged_data.merge(dim_time, on='time_id', how='left')\n",
    "merged_data = merged_data.merge(dim_location, on='location_id', how='left')\n"
   ]
  }
 ],
 "metadata": {
  "kernelspec": {
   "display_name": "datawarehouse",
   "language": "python",
   "name": "datawarehouse"
  },
  "language_info": {
   "codemirror_mode": {
    "name": "ipython",
    "version": 3
   },
   "file_extension": ".py",
   "mimetype": "text/x-python",
   "name": "python",
   "nbconvert_exporter": "python",
   "pygments_lexer": "ipython3",
   "version": "3.9.12"
  }
 },
 "nbformat": 4,
 "nbformat_minor": 5
}
