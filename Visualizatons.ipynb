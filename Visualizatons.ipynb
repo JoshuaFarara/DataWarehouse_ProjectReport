{
 "cells": [
  {
   "cell_type": "markdown",
   "id": "1aba869c-f31e-4e3f-9b5a-d68946cc4d33",
   "metadata": {},
   "source": [
    "# Visulizations of Populated Data"
   ]
  },
  {
   "cell_type": "code",
   "execution_count": null,
   "id": "4039d067",
   "metadata": {},
   "outputs": [],
   "source": [
    "import pandas as pd\n",
    "import matplotlib.pyplot as plt\n",
    "from mpl_toolkits.mplot3d import Axes3D"
   ]
  },
  {
   "cell_type": "markdown",
   "id": "0b244d11-ddca-409e-9e6a-bee07ebc114a",
   "metadata": {},
   "source": [
    "example demonstration:"
   ]
  },
  {
   "cell_type": "code",
   "execution_count": null,
   "id": "1a089dee-991f-4a2b-9f28-fae45511ccc0",
   "metadata": {},
   "outputs": [],
   "source": [
    "# Sample data\n",
    "data = {'x': [1, 2, 3], 'y': [1, 2, 3], 'z': [1, 2, 3]}\n",
    "df = pd.DataFrame(data)\n",
    "\n",
    "# Create a 3D scatter plot\n",
    "fig = plt.figure()\n",
    "ax = fig.add_subplot(111, projection='3d')\n",
    "ax.scatter(df['x'], df['y'], df['z'])\n",
    "\n",
    "ax.set_xlabel('X Label')\n",
    "ax.set_ylabel('Y Label')\n",
    "ax.set_zlabel('Z Label')\n",
    "\n",
    "plt.show()\n"
   ]
  },
  {
   "cell_type": "markdown",
   "id": "c9b70097",
   "metadata": {},
   "source": [
    "Read in data"
   ]
  },
  {
   "cell_type": "code",
   "execution_count": null,
   "id": "edd1dc5b-db5b-4068-85c4-0f6fb56cbad3",
   "metadata": {},
   "outputs": [],
   "source": [
    "conv_colnaming_fact_data = pd.read_csv(r\"C:\\Users\\User\\Documents\\School\\FallGrad2023\\DW\\DataWarehouse_ProjectReport\\data\\conv_colnaming_fact_data.csv\")\n",
    "conv_colnaming_fact_data"
   ]
  },
  {
   "cell_type": "code",
   "execution_count": null,
   "id": "d6f146b1",
   "metadata": {},
   "outputs": [],
   "source": [
    "conv_colnaming_fact_data = pd.read_csv(r'C:\\Users\\User\\Documents\\School\\FallGrad2023\\DW\\DataWarehouse_ProjectReport\\data\\conv_colnaming_fact_data.csv')\n",
    "dim_degree = pd.read_csv(r'C:\\Users\\User\\Documents\\School\\FallGrad2023\\DW\\DataWarehouse_ProjectReport\\data/DimensionTables/dim_degree.csv')\n",
    "dim_year = pd.read_csv(r'C:\\Users\\User\\Documents\\School\\FallGrad2023\\DW\\DataWarehouse_ProjectReport\\data/DimensionTables/dim_year.csv')\n",
    "dim_major = pd.read_csv(r'C:\\Users\\User\\Documents\\School\\FallGrad2023\\DW\\DataWarehouse_ProjectReport\\data/DimensionTables/dim_major.csv')\n",
    "conv_colnaming_fact_data"
   ]
  },
  {
   "cell_type": "code",
   "execution_count": null,
   "id": "582082f1",
   "metadata": {},
   "outputs": [],
   "source": [
    "# Sample code to merge fact data with dimension tables\n",
    "visuals_data = conv_colnaming_fact_data.merge(dim_degree, on='degree_id', how='left')\n",
    "visuals_data = visuals_data.merge(dim_year, on='year_id', how='left')\n",
    "visuals_data = visuals_data.merge(dim_major, on='major_id', how='left')\n"
   ]
  },
  {
   "cell_type": "code",
   "execution_count": null,
   "id": "850b8ce9-71af-404b-bc57-94fdcaf5230c",
   "metadata": {
    "tags": []
   },
   "outputs": [],
   "source": [
    "# Access attributes from the merged data\n",
    "x = visuals_data['degree_name'].astype('category').cat.codes\n",
    "y = visuals_data['year'].astype('category').cat.codes\n",
    "z = visuals_data['major_name'].astype('category').cat.codes\n",
    "\n",
    "fig = plt.figure()\n",
    "ax = fig.add_subplot(111, projection='3d')\n",
    "ax.scatter(x, y, z)\n",
    "\n",
    "for i in range(len(x)):\n",
    "    ax.plot([x[i], 0], [y[i], 0], [z[i], 0], color='gray', linestyle='--', alpha=0.5)\n",
    "\n",
    "ax.set_xlabel('Degree')\n",
    "ax.set_ylabel('Year')\n",
    "ax.set_zlabel('Major')\n",
    "\n",
    "plt.show()\n"
   ]
  },
  {
   "cell_type": "code",
   "execution_count": null,
   "id": "f461dbd2-476e-47ab-96c6-457115fa237e",
   "metadata": {},
   "outputs": [],
   "source": [
    "dim_major\n"
   ]
  },
  {
   "cell_type": "code",
   "execution_count": null,
   "id": "3d3843bf-17de-4c61-a1d7-f135f4d865a4",
   "metadata": {},
   "outputs": [],
   "source": [
    "import matplotlib.pyplot as plt\n",
    "from mpl_toolkits.mplot3d.art3d import Poly3DCollection\n",
    "\n",
    "# Create a 3D scatter plot\n",
    "fig = plt.figure()\n",
    "ax = fig.add_subplot(111, projection='3d')\n",
    "ax.scatter(df['x'], df['y'], df['z'])\n",
    "\n",
    "# Define the vertices of the cuboid\n",
    "vertices = [\n",
    "    [1, 4, 7],\n",
    "    [4, 4, 7],\n",
    "    [4, 8, 7],\n",
    "    [1, 8, 7],\n",
    "    [1, 4, 10],\n",
    "    [4, 4, 10],\n",
    "    [4, 8, 10],\n",
    "    [1, 8, 10]\n",
    "]\n",
    "\n",
    "# Define the faces of the cuboid\n",
    "faces = [\n",
    "    [vertices[0], vertices[1], vertices[2], vertices[3]],\n",
    "    [vertices[4], vertices[5], vertices[6], vertices[7]],\n",
    "    [vertices[0], vertices[1], vertices[5], vertices[4]],\n",
    "    [vertices[2], vertices[3], vertices[7], vertices[6]],\n",
    "    [vertices[1], vertices[2], vertices[6], vertices[5]],\n",
    "    [vertices[0], vertices[3], vertices[7], vertices[4]]\n",
    "]\n",
    "\n",
    "# Plot the cuboid\n",
    "ax.add_collection3d(Poly3DCollection(faces, facecolors='blue', linewidths=1, edgecolors='r', alpha=0.1))\n",
    "\n",
    "ax.set_xlabel('X')\n",
    "ax.set_ylabel('Y')\n",
    "ax.set_zlabel('Z')\n",
    "\n",
    "plt.show()"
   ]
  },
  {
   "cell_type": "code",
   "execution_count": null,
   "id": "00f69410-761f-45da-aef4-3180eedfd4f6",
   "metadata": {},
   "outputs": [],
   "source": [
    "\n",
    "\n",
    "# Create a DataFrame for demonstration\n",
    "df = pd.DataFrame({'x': [1, 2, 3], 'y': [4, 5, 6], 'z': [7, 8, 9]})\n",
    "\n",
    "# Create a 3D scatter plot\n",
    "fig = plt.figure()\n",
    "ax = fig.add_subplot(111, projection='3d')\n",
    "ax.scatter(df['x'], df['y'], df['z'])\n",
    "\n",
    "# Plot a cube\n",
    "ax.plot_cube([1, 4], [4, 8], [7, 10], alpha=0.1, color=\"gray\")\n",
    "\n",
    "ax.set_xlabel('X')\n",
    "ax.set_ylabel('Y')\n",
    "ax.set_zlabel('Z')\n",
    "\n",
    "plt.show()\n"
   ]
  },
  {
   "cell_type": "code",
   "execution_count": null,
   "id": "f42ee827-01ab-4614-a1f7-dd49ea4d7809",
   "metadata": {},
   "outputs": [],
   "source": [
    "# %matplotlib widget\n",
    "# Sample dimension tables\n",
    "dim_degree = pd.DataFrame({'degree_id': [1, 2, 3, 4, 5, 6, 7, 8],\n",
    "                           'degree_name': ['Associate degree', 'Bachelor of Science', 'Bachelor of Art', 'Master of Science',\n",
    "                                           'Master of Art', 'Master of Business Administration', 'Doctor of Education', 'Doctor of Philosophy'],\n",
    "                           'degree_abbreviation': ['AS', 'BS', 'BA', 'MS', 'MA', 'MBA', 'EdD', 'PhD']})\n",
    "\n",
    "dim_year = pd.DataFrame({'year_id': [1, 2, 3, 4],\n",
    "                         'year': [1989, 1990, 1991, 1992]})\n",
    "\n",
    "dim_major = pd.DataFrame({'major_id': [1, 2, 3, 4, 5, 6, 7, 8, 9, 10, 11],\n",
    "                          'major_name': ['Computer Sc', 'Information Sc', 'Applied Sc', 'Accounting', 'Business Admin',\n",
    "                                         'Economics', 'Elementary Ed', 'Secondary Ed', 'Biology', 'Chemistry', 'English']})\n",
    "\n",
    "# Sample fact data with dimension IDs\n",
    "conv_colnaming_fact_data = pd.DataFrame({'degree_id': [1, 2, 3, 4, 5],\n",
    "                                         'year_id': [1, 2, 2, 1, 3],\n",
    "                                         'major_id': [3, 1, 1, 9, 3]})\n",
    "\n",
    "# Merge fact data with dimension tables\n",
    "visuals_data = conv_colnaming_fact_data.merge(dim_degree, on='degree_id', how='left')\n",
    "visuals_data = visuals_data.merge(dim_year, on='year_id', how='left')\n",
    "visuals_data = visuals_data.merge(dim_major, on='major_id', how='left')\n",
    "\n",
    "# Access attributes from the merged data\n",
    "x = visuals_data['degree_name'].astype('category').cat.codes\n",
    "y = visuals_data['year'].astype('category').cat.codes\n",
    "z = visuals_data['major_name'].astype('category').cat.codes\n",
    "\n",
    "fig = plt.figure()\n",
    "ax = fig.add_subplot(111, projection='3d')\n",
    "# ax = Axes3D(fig)\n",
    "ax.scatter(x, y, z)\n",
    "\n",
    "# Connect data points with lines in a star-like pattern\n",
    "for i in range(len(x)):\n",
    "    ax.plot([x[i], 0], [y[i], 0], [z[i], 0], color='gray', linestyle='--', alpha=0.5)\n",
    "\n",
    "# Add dimension attribute labels\n",
    "for i, txt in enumerate(visuals_data['degree_name']):\n",
    "    ax.text(x[i], y[i], z[i], txt, color='red')\n",
    "\n",
    "for i, txt in enumerate(visuals_data['year']):\n",
    "    ax.text(x[i], y[i], z[i], txt, color='blue')\n",
    "\n",
    "for i, txt in enumerate(visuals_data['major_name']):\n",
    "    ax.text(x[i], y[i], z[i], txt, color='green')\n",
    "\n",
    "ax.set_xlabel('Degree')\n",
    "ax.set_ylabel('Year')\n",
    "ax.set_zlabel('Major')\n",
    "\n",
    "plt.show()"
   ]
  },
  {
   "cell_type": "code",
   "execution_count": null,
   "id": "87b053e3-ca9f-4b7d-9818-e89c3a86fe2e",
   "metadata": {},
   "outputs": [],
   "source": [
    "# creating 3d plot using matplotlib \n",
    "# in python\n",
    " \n",
    "# for creating a responsive plot\n",
    "%matplotlib widget\n",
    " \n",
    "# importing required libraries\n",
    "from mpl_toolkits.mplot3d import Axes3D\n",
    "import matplotlib.pyplot as plt\n",
    " \n",
    "# creating random dataset\n",
    "xs = [14, 24, 43, 47, 54, 66, 74, 89, 12,\n",
    "      44, 1, 2, 3, 4, 5, 9, 8, 7, 6, 5]\n",
    " \n",
    "ys = [0, 1, 2, 3, 4, 5, 6, 7, 8, 9, 6, 3,\n",
    "      5, 2, 4, 1, 8, 7, 0, 5]\n",
    " \n",
    "zs = [9, 6, 3, 5, 2, 4, 1, 8, 7, 0, 1, 2, \n",
    "      3, 4, 5, 6, 7, 8, 9, 0]\n",
    " \n",
    "# creating figure\n",
    "fig = plt.figure()\n",
    "ax = Axes3D(fig)\n",
    " \n",
    "# creating the plot\n",
    "plot_geeks = ax.scatter(xs, ys, zs, color='green')\n",
    " \n",
    "# setting title and labels\n",
    "ax.set_title(\"3D plot\")\n",
    "ax.set_xlabel('x-axis')\n",
    "ax.set_ylabel('y-axis')\n",
    "ax.set_zlabel('z-axis')\n",
    " \n",
    "# displaying the plot\n",
    "plt.show()"
   ]
  },
  {
   "cell_type": "code",
   "execution_count": null,
   "id": "5eada816-28b8-4856-8871-e0279e415d17",
   "metadata": {},
   "outputs": [],
   "source": []
  }
 ],
 "metadata": {
  "kernelspec": {
   "display_name": "datawarehouse",
   "language": "python",
   "name": "datawarehouse"
  },
  "language_info": {
   "codemirror_mode": {
    "name": "ipython",
    "version": 3
   },
   "file_extension": ".py",
   "mimetype": "text/x-python",
   "name": "python",
   "nbconvert_exporter": "python",
   "pygments_lexer": "ipython3",
   "version": "3.9.12"
  }
 },
 "nbformat": 4,
 "nbformat_minor": 5
}
